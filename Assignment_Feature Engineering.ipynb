{
 "cells": [
  {
   "cell_type": "markdown",
   "id": "51c4dabe",
   "metadata": {},
   "source": [
    "### Problem Statement\n",
    "Build a model thatpredicts an accurate delivery time, from picking up a package arriving at the final\n",
    "destination. An accurate arrival time prediction will help all business to improve their\n",
    "logistics and communicate the accurate time their time to their customers. You will be\n",
    "required to perform various feature engineering techniques while preparing your data for\n",
    "further analysis."
   ]
  },
  {
   "cell_type": "markdown",
   "id": "abfb92e3",
   "metadata": {},
   "source": [
    "### Data Analysis Question\n",
    "help predict the estimated time of delivery of orders, from the\n",
    "point of driver pickup to the point of arrival at the final destination"
   ]
  },
  {
   "cell_type": "markdown",
   "id": "096b175c",
   "metadata": {},
   "source": [
    "### Measure of Success\n",
    "predicts an accurate delivery time."
   ]
  },
  {
   "cell_type": "code",
   "execution_count": 24,
   "id": "d2fbecb9",
   "metadata": {},
   "outputs": [],
   "source": [
    "#Import libraries\n",
    "import pandas as pd               # pandas for performing data manipulation\n",
    "import numpy as np                # numpy for performing scientific computations\n",
    "import matplotlib.pyplot as plt   # matplotlib for performing visualisation \n",
    "import seaborn as sns"
   ]
  },
  {
   "cell_type": "markdown",
   "id": "f4af1fb9",
   "metadata": {},
   "source": [
    "### Data Importation"
   ]
  },
  {
   "cell_type": "code",
   "execution_count": 18,
   "id": "fa369e5b",
   "metadata": {},
   "outputs": [],
   "source": [
    "#read the data and explore the first 5 lines\n",
    "sendy_df = pd.read_csv('https://bit.ly/3deaKEM')\n"
   ]
  },
  {
   "cell_type": "markdown",
   "id": "fd7ec457",
   "metadata": {},
   "source": [
    "### Data exploration"
   ]
  },
  {
   "cell_type": "code",
   "execution_count": null,
   "id": "671e0125",
   "metadata": {},
   "outputs": [],
   "source": [
    "# reading the first 5 entries\n",
    "sendy_df.head()"
   ]
  },
  {
   "cell_type": "code",
   "execution_count": 4,
   "id": "a64c862d",
   "metadata": {},
   "outputs": [
    {
     "data": {
      "text/html": [
       "<div>\n",
       "<style scoped>\n",
       "    .dataframe tbody tr th:only-of-type {\n",
       "        vertical-align: middle;\n",
       "    }\n",
       "\n",
       "    .dataframe tbody tr th {\n",
       "        vertical-align: top;\n",
       "    }\n",
       "\n",
       "    .dataframe thead th {\n",
       "        text-align: right;\n",
       "    }\n",
       "</style>\n",
       "<table border=\"1\" class=\"dataframe\">\n",
       "  <thead>\n",
       "    <tr style=\"text-align: right;\">\n",
       "      <th></th>\n",
       "      <th>Platform Type</th>\n",
       "      <th>Placement - Day of Month</th>\n",
       "      <th>Placement - Weekday (Mo = 1)</th>\n",
       "      <th>Confirmation - Day of Month</th>\n",
       "      <th>Confirmation - Weekday (Mo = 1)</th>\n",
       "      <th>Arrival at Pickup - Day of Month</th>\n",
       "      <th>Arrival at Pickup - Weekday (Mo = 1)</th>\n",
       "      <th>Pickup - Day of Month</th>\n",
       "      <th>Pickup - Weekday (Mo = 1)</th>\n",
       "      <th>Arrival at Destination - Day of Month</th>\n",
       "      <th>Arrival at Destination - Weekday (Mo = 1)</th>\n",
       "      <th>Distance (KM)</th>\n",
       "      <th>Temperature</th>\n",
       "      <th>Precipitation in millimeters</th>\n",
       "      <th>Pickup Lat</th>\n",
       "      <th>Pickup Long</th>\n",
       "      <th>Destination Lat</th>\n",
       "      <th>Destination Long</th>\n",
       "      <th>Time from Pickup to Arrival</th>\n",
       "    </tr>\n",
       "  </thead>\n",
       "  <tbody>\n",
       "    <tr>\n",
       "      <th>count</th>\n",
       "      <td>21201.000000</td>\n",
       "      <td>21201.000000</td>\n",
       "      <td>21201.000000</td>\n",
       "      <td>21201.000000</td>\n",
       "      <td>21201.000000</td>\n",
       "      <td>21201.000000</td>\n",
       "      <td>21201.000000</td>\n",
       "      <td>21201.000000</td>\n",
       "      <td>21201.000000</td>\n",
       "      <td>21201.000000</td>\n",
       "      <td>21201.000000</td>\n",
       "      <td>21201.000000</td>\n",
       "      <td>16835.000000</td>\n",
       "      <td>552.000000</td>\n",
       "      <td>21201.000000</td>\n",
       "      <td>21201.000000</td>\n",
       "      <td>21201.000000</td>\n",
       "      <td>21201.000000</td>\n",
       "      <td>21201.000000</td>\n",
       "    </tr>\n",
       "    <tr>\n",
       "      <th>mean</th>\n",
       "      <td>2.752182</td>\n",
       "      <td>15.653696</td>\n",
       "      <td>3.240083</td>\n",
       "      <td>15.653837</td>\n",
       "      <td>3.240225</td>\n",
       "      <td>15.653837</td>\n",
       "      <td>3.240225</td>\n",
       "      <td>15.653837</td>\n",
       "      <td>3.240225</td>\n",
       "      <td>15.653837</td>\n",
       "      <td>3.240225</td>\n",
       "      <td>9.506533</td>\n",
       "      <td>23.258889</td>\n",
       "      <td>7.905797</td>\n",
       "      <td>-1.281470</td>\n",
       "      <td>36.811264</td>\n",
       "      <td>-1.282581</td>\n",
       "      <td>36.811220</td>\n",
       "      <td>1556.920947</td>\n",
       "    </tr>\n",
       "    <tr>\n",
       "      <th>std</th>\n",
       "      <td>0.625178</td>\n",
       "      <td>8.798916</td>\n",
       "      <td>1.567295</td>\n",
       "      <td>8.798886</td>\n",
       "      <td>1.567228</td>\n",
       "      <td>8.798886</td>\n",
       "      <td>1.567228</td>\n",
       "      <td>8.798886</td>\n",
       "      <td>1.567228</td>\n",
       "      <td>8.798886</td>\n",
       "      <td>1.567228</td>\n",
       "      <td>5.668963</td>\n",
       "      <td>3.615768</td>\n",
       "      <td>17.089971</td>\n",
       "      <td>0.030507</td>\n",
       "      <td>0.037473</td>\n",
       "      <td>0.034824</td>\n",
       "      <td>0.044721</td>\n",
       "      <td>987.270788</td>\n",
       "    </tr>\n",
       "    <tr>\n",
       "      <th>min</th>\n",
       "      <td>1.000000</td>\n",
       "      <td>1.000000</td>\n",
       "      <td>1.000000</td>\n",
       "      <td>1.000000</td>\n",
       "      <td>1.000000</td>\n",
       "      <td>1.000000</td>\n",
       "      <td>1.000000</td>\n",
       "      <td>1.000000</td>\n",
       "      <td>1.000000</td>\n",
       "      <td>1.000000</td>\n",
       "      <td>1.000000</td>\n",
       "      <td>1.000000</td>\n",
       "      <td>11.200000</td>\n",
       "      <td>0.100000</td>\n",
       "      <td>-1.438302</td>\n",
       "      <td>36.653621</td>\n",
       "      <td>-1.430298</td>\n",
       "      <td>36.606594</td>\n",
       "      <td>1.000000</td>\n",
       "    </tr>\n",
       "    <tr>\n",
       "      <th>25%</th>\n",
       "      <td>3.000000</td>\n",
       "      <td>8.000000</td>\n",
       "      <td>2.000000</td>\n",
       "      <td>8.000000</td>\n",
       "      <td>2.000000</td>\n",
       "      <td>8.000000</td>\n",
       "      <td>2.000000</td>\n",
       "      <td>8.000000</td>\n",
       "      <td>2.000000</td>\n",
       "      <td>8.000000</td>\n",
       "      <td>2.000000</td>\n",
       "      <td>5.000000</td>\n",
       "      <td>20.600000</td>\n",
       "      <td>1.075000</td>\n",
       "      <td>-1.300921</td>\n",
       "      <td>36.784605</td>\n",
       "      <td>-1.301201</td>\n",
       "      <td>36.785661</td>\n",
       "      <td>882.000000</td>\n",
       "    </tr>\n",
       "    <tr>\n",
       "      <th>50%</th>\n",
       "      <td>3.000000</td>\n",
       "      <td>15.000000</td>\n",
       "      <td>3.000000</td>\n",
       "      <td>15.000000</td>\n",
       "      <td>3.000000</td>\n",
       "      <td>15.000000</td>\n",
       "      <td>3.000000</td>\n",
       "      <td>15.000000</td>\n",
       "      <td>3.000000</td>\n",
       "      <td>15.000000</td>\n",
       "      <td>3.000000</td>\n",
       "      <td>8.000000</td>\n",
       "      <td>23.500000</td>\n",
       "      <td>2.900000</td>\n",
       "      <td>-1.279395</td>\n",
       "      <td>36.807040</td>\n",
       "      <td>-1.284382</td>\n",
       "      <td>36.808002</td>\n",
       "      <td>1369.000000</td>\n",
       "    </tr>\n",
       "    <tr>\n",
       "      <th>75%</th>\n",
       "      <td>3.000000</td>\n",
       "      <td>23.000000</td>\n",
       "      <td>5.000000</td>\n",
       "      <td>23.000000</td>\n",
       "      <td>5.000000</td>\n",
       "      <td>23.000000</td>\n",
       "      <td>5.000000</td>\n",
       "      <td>23.000000</td>\n",
       "      <td>5.000000</td>\n",
       "      <td>23.000000</td>\n",
       "      <td>5.000000</td>\n",
       "      <td>13.000000</td>\n",
       "      <td>26.000000</td>\n",
       "      <td>4.900000</td>\n",
       "      <td>-1.257147</td>\n",
       "      <td>36.829741</td>\n",
       "      <td>-1.261177</td>\n",
       "      <td>36.829477</td>\n",
       "      <td>2040.000000</td>\n",
       "    </tr>\n",
       "    <tr>\n",
       "      <th>max</th>\n",
       "      <td>4.000000</td>\n",
       "      <td>31.000000</td>\n",
       "      <td>7.000000</td>\n",
       "      <td>31.000000</td>\n",
       "      <td>7.000000</td>\n",
       "      <td>31.000000</td>\n",
       "      <td>7.000000</td>\n",
       "      <td>31.000000</td>\n",
       "      <td>7.000000</td>\n",
       "      <td>31.000000</td>\n",
       "      <td>7.000000</td>\n",
       "      <td>49.000000</td>\n",
       "      <td>32.100000</td>\n",
       "      <td>99.100000</td>\n",
       "      <td>-1.147170</td>\n",
       "      <td>36.991046</td>\n",
       "      <td>-1.030225</td>\n",
       "      <td>37.016779</td>\n",
       "      <td>7883.000000</td>\n",
       "    </tr>\n",
       "  </tbody>\n",
       "</table>\n",
       "</div>"
      ],
      "text/plain": [
       "       Platform Type  Placement - Day of Month  Placement - Weekday (Mo = 1)  \\\n",
       "count   21201.000000              21201.000000                  21201.000000   \n",
       "mean        2.752182                 15.653696                      3.240083   \n",
       "std         0.625178                  8.798916                      1.567295   \n",
       "min         1.000000                  1.000000                      1.000000   \n",
       "25%         3.000000                  8.000000                      2.000000   \n",
       "50%         3.000000                 15.000000                      3.000000   \n",
       "75%         3.000000                 23.000000                      5.000000   \n",
       "max         4.000000                 31.000000                      7.000000   \n",
       "\n",
       "       Confirmation - Day of Month  Confirmation - Weekday (Mo = 1)  \\\n",
       "count                 21201.000000                     21201.000000   \n",
       "mean                     15.653837                         3.240225   \n",
       "std                       8.798886                         1.567228   \n",
       "min                       1.000000                         1.000000   \n",
       "25%                       8.000000                         2.000000   \n",
       "50%                      15.000000                         3.000000   \n",
       "75%                      23.000000                         5.000000   \n",
       "max                      31.000000                         7.000000   \n",
       "\n",
       "       Arrival at Pickup - Day of Month  Arrival at Pickup - Weekday (Mo = 1)  \\\n",
       "count                      21201.000000                          21201.000000   \n",
       "mean                          15.653837                              3.240225   \n",
       "std                            8.798886                              1.567228   \n",
       "min                            1.000000                              1.000000   \n",
       "25%                            8.000000                              2.000000   \n",
       "50%                           15.000000                              3.000000   \n",
       "75%                           23.000000                              5.000000   \n",
       "max                           31.000000                              7.000000   \n",
       "\n",
       "       Pickup - Day of Month  Pickup - Weekday (Mo = 1)  \\\n",
       "count           21201.000000               21201.000000   \n",
       "mean               15.653837                   3.240225   \n",
       "std                 8.798886                   1.567228   \n",
       "min                 1.000000                   1.000000   \n",
       "25%                 8.000000                   2.000000   \n",
       "50%                15.000000                   3.000000   \n",
       "75%                23.000000                   5.000000   \n",
       "max                31.000000                   7.000000   \n",
       "\n",
       "       Arrival at Destination - Day of Month  \\\n",
       "count                           21201.000000   \n",
       "mean                               15.653837   \n",
       "std                                 8.798886   \n",
       "min                                 1.000000   \n",
       "25%                                 8.000000   \n",
       "50%                                15.000000   \n",
       "75%                                23.000000   \n",
       "max                                31.000000   \n",
       "\n",
       "       Arrival at Destination - Weekday (Mo = 1)  Distance (KM)   Temperature  \\\n",
       "count                               21201.000000   21201.000000  16835.000000   \n",
       "mean                                    3.240225       9.506533     23.258889   \n",
       "std                                     1.567228       5.668963      3.615768   \n",
       "min                                     1.000000       1.000000     11.200000   \n",
       "25%                                     2.000000       5.000000     20.600000   \n",
       "50%                                     3.000000       8.000000     23.500000   \n",
       "75%                                     5.000000      13.000000     26.000000   \n",
       "max                                     7.000000      49.000000     32.100000   \n",
       "\n",
       "       Precipitation in millimeters    Pickup Lat   Pickup Long  \\\n",
       "count                    552.000000  21201.000000  21201.000000   \n",
       "mean                       7.905797     -1.281470     36.811264   \n",
       "std                       17.089971      0.030507      0.037473   \n",
       "min                        0.100000     -1.438302     36.653621   \n",
       "25%                        1.075000     -1.300921     36.784605   \n",
       "50%                        2.900000     -1.279395     36.807040   \n",
       "75%                        4.900000     -1.257147     36.829741   \n",
       "max                       99.100000     -1.147170     36.991046   \n",
       "\n",
       "       Destination Lat  Destination Long  Time from Pickup to Arrival  \n",
       "count     21201.000000      21201.000000                 21201.000000  \n",
       "mean         -1.282581         36.811220                  1556.920947  \n",
       "std           0.034824          0.044721                   987.270788  \n",
       "min          -1.430298         36.606594                     1.000000  \n",
       "25%          -1.301201         36.785661                   882.000000  \n",
       "50%          -1.284382         36.808002                  1369.000000  \n",
       "75%          -1.261177         36.829477                  2040.000000  \n",
       "max          -1.030225         37.016779                  7883.000000  "
      ]
     },
     "execution_count": 4,
     "metadata": {},
     "output_type": "execute_result"
    }
   ],
   "source": [
    "# describe the data\n",
    "sendy_df.describe()"
   ]
  },
  {
   "cell_type": "code",
   "execution_count": 5,
   "id": "68cf1bb3",
   "metadata": {},
   "outputs": [
    {
     "data": {
      "text/plain": [
       "(21201, 29)"
      ]
     },
     "execution_count": 5,
     "metadata": {},
     "output_type": "execute_result"
    }
   ],
   "source": [
    "#check the data sise\n",
    "sendy_df.shape"
   ]
  },
  {
   "cell_type": "code",
   "execution_count": 6,
   "id": "0505f790",
   "metadata": {},
   "outputs": [
    {
     "data": {
      "text/plain": [
       "Order No                                      object\n",
       "User Id                                       object\n",
       "Vehicle Type                                  object\n",
       "Platform Type                                  int64\n",
       "Personal or Business                          object\n",
       "Placement - Day of Month                       int64\n",
       "Placement - Weekday (Mo = 1)                   int64\n",
       "Placement - Time                              object\n",
       "Confirmation - Day of Month                    int64\n",
       "Confirmation - Weekday (Mo = 1)                int64\n",
       "Confirmation - Time                           object\n",
       "Arrival at Pickup - Day of Month               int64\n",
       "Arrival at Pickup - Weekday (Mo = 1)           int64\n",
       "Arrival at Pickup - Time                      object\n",
       "Pickup - Day of Month                          int64\n",
       "Pickup - Weekday (Mo = 1)                      int64\n",
       "Pickup - Time                                 object\n",
       "Arrival at Destination - Day of Month          int64\n",
       "Arrival at Destination - Weekday (Mo = 1)      int64\n",
       "Arrival at Destination - Time                 object\n",
       "Distance (KM)                                  int64\n",
       "Temperature                                  float64\n",
       "Precipitation in millimeters                 float64\n",
       "Pickup Lat                                   float64\n",
       "Pickup Long                                  float64\n",
       "Destination Lat                              float64\n",
       "Destination Long                             float64\n",
       "Rider Id                                      object\n",
       "Time from Pickup to Arrival                    int64\n",
       "dtype: object"
      ]
     },
     "execution_count": 6,
     "metadata": {},
     "output_type": "execute_result"
    }
   ],
   "source": [
    "# checking the data types\n",
    "sendy_df.dtypes"
   ]
  },
  {
   "cell_type": "markdown",
   "id": "0cfd29b3",
   "metadata": {},
   "source": [
    "### Data cleaning"
   ]
  },
  {
   "cell_type": "code",
   "execution_count": 19,
   "id": "7a497ffd",
   "metadata": {},
   "outputs": [
    {
     "data": {
      "text/plain": [
       "Index(['order no', 'user id', 'vehicle type', 'platform type',\n",
       "       'personal or business', 'placement - day of month',\n",
       "       'placement - weekday (mo = 1)', 'placement - time',\n",
       "       'confirmation - day of month', 'confirmation - weekday (mo = 1)',\n",
       "       'confirmation - time', 'arrival at pickup - day of month',\n",
       "       'arrival at pickup - weekday (mo = 1)', 'arrival at pickup - time',\n",
       "       'pickup - day of month', 'pickup - weekday (mo = 1)', 'pickup - time',\n",
       "       'arrival at destination - day of month',\n",
       "       'arrival at destination - weekday (mo = 1)',\n",
       "       'arrival at destination - time', 'distance (km)', 'temperature',\n",
       "       'precipitation in millimeters', 'pickup lat', 'pickup long',\n",
       "       'destination lat', 'destination long', 'rider id',\n",
       "       'time from pickup to arrival'],\n",
       "      dtype='object')"
      ]
     },
     "execution_count": 19,
     "metadata": {},
     "output_type": "execute_result"
    }
   ],
   "source": [
    "# # convert all column headers to lower case\n",
    "\n",
    "sendy_df.columns =  sendy_df.columns.str.lower()\n",
    "sendy_df.columns"
   ]
  },
  {
   "cell_type": "code",
   "execution_count": 20,
   "id": "c1b0e5dd",
   "metadata": {},
   "outputs": [
    {
     "data": {
      "text/plain": [
       "order no                                         0\n",
       "user id                                          0\n",
       "vehicle type                                     0\n",
       "platform type                                    0\n",
       "personal or business                             0\n",
       "placement - day of month                         0\n",
       "placement - weekday (mo = 1)                     0\n",
       "placement - time                                 0\n",
       "confirmation - day of month                      0\n",
       "confirmation - weekday (mo = 1)                  0\n",
       "confirmation - time                              0\n",
       "arrival at pickup - day of month                 0\n",
       "arrival at pickup - weekday (mo = 1)             0\n",
       "arrival at pickup - time                         0\n",
       "pickup - day of month                            0\n",
       "pickup - weekday (mo = 1)                        0\n",
       "pickup - time                                    0\n",
       "arrival at destination - day of month            0\n",
       "arrival at destination - weekday (mo = 1)        0\n",
       "arrival at destination - time                    0\n",
       "distance (km)                                    0\n",
       "temperature                                   4366\n",
       "precipitation in millimeters                 20649\n",
       "pickup lat                                       0\n",
       "pickup long                                      0\n",
       "destination lat                                  0\n",
       "destination long                                 0\n",
       "rider id                                         0\n",
       "time from pickup to arrival                      0\n",
       "dtype: int64"
      ]
     },
     "execution_count": 20,
     "metadata": {},
     "output_type": "execute_result"
    }
   ],
   "source": [
    "#checking the missing data\n",
    "sendy_df.isnull().sum()\n"
   ]
  },
  {
   "cell_type": "markdown",
   "id": "89d972ca",
   "metadata": {},
   "source": [
    "### Observation\n",
    "temperature and Precipitation has missing data.\n",
    "for standardization, we shall replace these with mean values."
   ]
  },
  {
   "cell_type": "code",
   "execution_count": 21,
   "id": "86dd380b",
   "metadata": {},
   "outputs": [
    {
     "data": {
      "text/plain": [
       "order no                                     0\n",
       "user id                                      0\n",
       "vehicle type                                 0\n",
       "platform type                                0\n",
       "personal or business                         0\n",
       "placement - day of month                     0\n",
       "placement - weekday (mo = 1)                 0\n",
       "placement - time                             0\n",
       "confirmation - day of month                  0\n",
       "confirmation - weekday (mo = 1)              0\n",
       "confirmation - time                          0\n",
       "arrival at pickup - day of month             0\n",
       "arrival at pickup - weekday (mo = 1)         0\n",
       "arrival at pickup - time                     0\n",
       "pickup - day of month                        0\n",
       "pickup - weekday (mo = 1)                    0\n",
       "pickup - time                                0\n",
       "arrival at destination - day of month        0\n",
       "arrival at destination - weekday (mo = 1)    0\n",
       "arrival at destination - time                0\n",
       "distance (km)                                0\n",
       "temperature                                  0\n",
       "precipitation in millimeters                 0\n",
       "pickup lat                                   0\n",
       "pickup long                                  0\n",
       "destination lat                              0\n",
       "destination long                             0\n",
       "rider id                                     0\n",
       "time from pickup to arrival                  0\n",
       "dtype: int64"
      ]
     },
     "execution_count": 21,
     "metadata": {},
     "output_type": "execute_result"
    }
   ],
   "source": [
    "# replacing the temperature and precipitation data with mean value\n",
    "\n",
    "sendy_df['temperature'].fillna(value=sendy_df['temperature'].mean(), inplace=True)\n",
    "sendy_df['precipitation in millimeters'].fillna(value=sendy_df['precipitation in millimeters'].mean(), inplace=True)\n",
    "\n",
    "sendy_df.isnull().sum()"
   ]
  },
  {
   "cell_type": "markdown",
   "id": "8211871a",
   "metadata": {},
   "source": [
    "### Outliers "
   ]
  },
  {
   "cell_type": "code",
   "execution_count": 36,
   "id": "092aac0e",
   "metadata": {},
   "outputs": [
    {
     "name": "stderr",
     "output_type": "stream",
     "text": [
      "C:\\Users\\jkaruria\\AppData\\Local\\Temp\\ipykernel_13288\\1775121198.py:3: FutureWarning: The default value of numeric_only in DataFrame.quantile is deprecated. In a future version, it will default to False. Select only valid columns or specify the value of numeric_only to silence this warning.\n",
      "  Q1 = sendy_df.quantile(0.25)\n",
      "C:\\Users\\jkaruria\\AppData\\Local\\Temp\\ipykernel_13288\\1775121198.py:4: FutureWarning: The default value of numeric_only in DataFrame.quantile is deprecated. In a future version, it will default to False. Select only valid columns or specify the value of numeric_only to silence this warning.\n",
      "  Q3 = sendy_df.quantile(0.75)\n",
      "C:\\Users\\jkaruria\\AppData\\Local\\Temp\\ipykernel_13288\\1775121198.py:8: FutureWarning: Automatic reindexing on DataFrame vs Series comparisons is deprecated and will raise ValueError in a future version. Do `left, right = left.align(right, axis=1, copy=False)` before e.g. `left == right`\n",
      "  sendy_df_iqr = sendy_df[((sendy_df < (Q1 - 1.5 * IQR)) | (sendy_df > (Q3 + 1.5 * IQR))).any(axis=1)]\n"
     ]
    },
    {
     "data": {
      "text/plain": [
       "(6831, 29)"
      ]
     },
     "execution_count": 36,
     "metadata": {},
     "output_type": "execute_result"
    }
   ],
   "source": [
    "#we shall use the quantiles to define and calculate our outliers\n",
    "# defining our quantiles using the quantile() function\n",
    "Q1 = sendy_df.quantile(0.25)\n",
    "Q3 = sendy_df.quantile(0.75)\n",
    "IQR = Q3-Q1\n",
    "#filtering out our outliers by getting values which are outside our IQR Range.\n",
    "\n",
    "sendy_df_iqr = sendy_df[((sendy_df < (Q1 - 1.5 * IQR)) | (sendy_df > (Q3 + 1.5 * IQR))).any(axis=1)]\n",
    "# Checking the size of the dataset with outliers for cleaning purposes\n",
    "sendy_df_iqr.shape"
   ]
  },
  {
   "cell_type": "markdown",
   "id": "dcd7cd53",
   "metadata": {},
   "source": [
    "Since this data may affect our output significantly, we shall drop them"
   ]
  },
  {
   "cell_type": "code",
   "execution_count": 37,
   "id": "dd27a35d",
   "metadata": {},
   "outputs": [
    {
     "name": "stderr",
     "output_type": "stream",
     "text": [
      "C:\\Users\\jkaruria\\AppData\\Local\\Temp\\ipykernel_13288\\2807484924.py:3: FutureWarning: Automatic reindexing on DataFrame vs Series comparisons is deprecated and will raise ValueError in a future version. Do `left, right = left.align(right, axis=1, copy=False)` before e.g. `left == right`\n",
      "  clean_sendy_df = sendy_df[~((sendy_df < (Q1 - 1.5 * IQR)) | (sendy_df > (Q3 + 1.5 * IQR))).any(axis=1)]\n"
     ]
    },
    {
     "data": {
      "text/plain": [
       "(14370, 29)"
      ]
     },
     "execution_count": 37,
     "metadata": {},
     "output_type": "execute_result"
    }
   ],
   "source": [
    "# dropping the outliers\n",
    "\n",
    "clean_sendy_df = sendy_df[~((sendy_df < (Q1 - 1.5 * IQR)) | (sendy_df > (Q3 + 1.5 * IQR))).any(axis=1)]\n",
    "clean_sendy_df.shape"
   ]
  },
  {
   "cell_type": "markdown",
   "id": "245da7f5",
   "metadata": {},
   "source": [
    "### Data Modeling\n"
   ]
  },
  {
   "cell_type": "code",
   "execution_count": 41,
   "id": "058e861c",
   "metadata": {},
   "outputs": [
    {
     "data": {
      "text/html": [
       "<div>\n",
       "<style scoped>\n",
       "    .dataframe tbody tr th:only-of-type {\n",
       "        vertical-align: middle;\n",
       "    }\n",
       "\n",
       "    .dataframe tbody tr th {\n",
       "        vertical-align: top;\n",
       "    }\n",
       "\n",
       "    .dataframe thead th {\n",
       "        text-align: right;\n",
       "    }\n",
       "</style>\n",
       "<table border=\"1\" class=\"dataframe\">\n",
       "  <thead>\n",
       "    <tr style=\"text-align: right;\">\n",
       "      <th></th>\n",
       "      <th>order no</th>\n",
       "      <th>user id</th>\n",
       "      <th>vehicle type</th>\n",
       "      <th>platform type</th>\n",
       "      <th>personal or business</th>\n",
       "      <th>placement - day of month</th>\n",
       "      <th>placement - weekday (mo = 1)</th>\n",
       "      <th>placement - time</th>\n",
       "      <th>confirmation - day of month</th>\n",
       "      <th>confirmation - weekday (mo = 1)</th>\n",
       "      <th>...</th>\n",
       "      <th>arrival at destination - time</th>\n",
       "      <th>distance (km)</th>\n",
       "      <th>temperature</th>\n",
       "      <th>precipitation in millimeters</th>\n",
       "      <th>pickup lat</th>\n",
       "      <th>pickup long</th>\n",
       "      <th>destination lat</th>\n",
       "      <th>destination long</th>\n",
       "      <th>rider id</th>\n",
       "      <th>time from pickup to arrival</th>\n",
       "    </tr>\n",
       "  </thead>\n",
       "  <tbody>\n",
       "    <tr>\n",
       "      <th>0</th>\n",
       "      <td>Order_No_4211</td>\n",
       "      <td>User_Id_633</td>\n",
       "      <td>Bike</td>\n",
       "      <td>3</td>\n",
       "      <td>Business</td>\n",
       "      <td>9</td>\n",
       "      <td>5</td>\n",
       "      <td>9:35:46 AM</td>\n",
       "      <td>9</td>\n",
       "      <td>5</td>\n",
       "      <td>...</td>\n",
       "      <td>10:39:55 AM</td>\n",
       "      <td>4</td>\n",
       "      <td>20.400000</td>\n",
       "      <td>7.905797</td>\n",
       "      <td>-1.317755</td>\n",
       "      <td>36.830370</td>\n",
       "      <td>-1.300406</td>\n",
       "      <td>36.829741</td>\n",
       "      <td>Rider_Id_432</td>\n",
       "      <td>745</td>\n",
       "    </tr>\n",
       "    <tr>\n",
       "      <th>2</th>\n",
       "      <td>Order_No_1899</td>\n",
       "      <td>User_Id_265</td>\n",
       "      <td>Bike</td>\n",
       "      <td>3</td>\n",
       "      <td>Business</td>\n",
       "      <td>30</td>\n",
       "      <td>2</td>\n",
       "      <td>12:39:25 PM</td>\n",
       "      <td>30</td>\n",
       "      <td>2</td>\n",
       "      <td>...</td>\n",
       "      <td>1:00:38 PM</td>\n",
       "      <td>3</td>\n",
       "      <td>23.258889</td>\n",
       "      <td>7.905797</td>\n",
       "      <td>-1.308284</td>\n",
       "      <td>36.843419</td>\n",
       "      <td>-1.300921</td>\n",
       "      <td>36.828195</td>\n",
       "      <td>Rider_Id_155</td>\n",
       "      <td>455</td>\n",
       "    </tr>\n",
       "    <tr>\n",
       "      <th>3</th>\n",
       "      <td>Order_No_9336</td>\n",
       "      <td>User_Id_1402</td>\n",
       "      <td>Bike</td>\n",
       "      <td>3</td>\n",
       "      <td>Business</td>\n",
       "      <td>15</td>\n",
       "      <td>5</td>\n",
       "      <td>9:25:34 AM</td>\n",
       "      <td>15</td>\n",
       "      <td>5</td>\n",
       "      <td>...</td>\n",
       "      <td>10:05:27 AM</td>\n",
       "      <td>9</td>\n",
       "      <td>19.200000</td>\n",
       "      <td>7.905797</td>\n",
       "      <td>-1.281301</td>\n",
       "      <td>36.832396</td>\n",
       "      <td>-1.257147</td>\n",
       "      <td>36.795063</td>\n",
       "      <td>Rider_Id_855</td>\n",
       "      <td>1341</td>\n",
       "    </tr>\n",
       "    <tr>\n",
       "      <th>5</th>\n",
       "      <td>Order_No_7408</td>\n",
       "      <td>User_Id_1342</td>\n",
       "      <td>Bike</td>\n",
       "      <td>3</td>\n",
       "      <td>Business</td>\n",
       "      <td>14</td>\n",
       "      <td>5</td>\n",
       "      <td>3:07:35 PM</td>\n",
       "      <td>14</td>\n",
       "      <td>5</td>\n",
       "      <td>...</td>\n",
       "      <td>4:23:41 PM</td>\n",
       "      <td>9</td>\n",
       "      <td>27.200000</td>\n",
       "      <td>7.905797</td>\n",
       "      <td>-1.302583</td>\n",
       "      <td>36.767081</td>\n",
       "      <td>-1.257309</td>\n",
       "      <td>36.806008</td>\n",
       "      <td>Rider_Id_124</td>\n",
       "      <td>3191</td>\n",
       "    </tr>\n",
       "    <tr>\n",
       "      <th>6</th>\n",
       "      <td>Order_No_22680</td>\n",
       "      <td>User_Id_2803</td>\n",
       "      <td>Bike</td>\n",
       "      <td>3</td>\n",
       "      <td>Business</td>\n",
       "      <td>9</td>\n",
       "      <td>5</td>\n",
       "      <td>9:33:45 AM</td>\n",
       "      <td>9</td>\n",
       "      <td>5</td>\n",
       "      <td>...</td>\n",
       "      <td>10:19:45 AM</td>\n",
       "      <td>5</td>\n",
       "      <td>20.300000</td>\n",
       "      <td>7.905797</td>\n",
       "      <td>-1.279395</td>\n",
       "      <td>36.825364</td>\n",
       "      <td>-1.276574</td>\n",
       "      <td>36.851365</td>\n",
       "      <td>Rider_Id_114</td>\n",
       "      <td>1380</td>\n",
       "    </tr>\n",
       "  </tbody>\n",
       "</table>\n",
       "<p>5 rows × 29 columns</p>\n",
       "</div>"
      ],
      "text/plain": [
       "         order no       user id vehicle type  platform type  \\\n",
       "0   Order_No_4211   User_Id_633         Bike              3   \n",
       "2   Order_No_1899   User_Id_265         Bike              3   \n",
       "3   Order_No_9336  User_Id_1402         Bike              3   \n",
       "5   Order_No_7408  User_Id_1342         Bike              3   \n",
       "6  Order_No_22680  User_Id_2803         Bike              3   \n",
       "\n",
       "  personal or business  placement - day of month  \\\n",
       "0             Business                         9   \n",
       "2             Business                        30   \n",
       "3             Business                        15   \n",
       "5             Business                        14   \n",
       "6             Business                         9   \n",
       "\n",
       "   placement - weekday (mo = 1) placement - time  confirmation - day of month  \\\n",
       "0                             5       9:35:46 AM                            9   \n",
       "2                             2      12:39:25 PM                           30   \n",
       "3                             5       9:25:34 AM                           15   \n",
       "5                             5       3:07:35 PM                           14   \n",
       "6                             5       9:33:45 AM                            9   \n",
       "\n",
       "   confirmation - weekday (mo = 1)  ... arrival at destination - time  \\\n",
       "0                                5  ...                   10:39:55 AM   \n",
       "2                                2  ...                    1:00:38 PM   \n",
       "3                                5  ...                   10:05:27 AM   \n",
       "5                                5  ...                    4:23:41 PM   \n",
       "6                                5  ...                   10:19:45 AM   \n",
       "\n",
       "   distance (km)  temperature precipitation in millimeters  pickup lat  \\\n",
       "0              4    20.400000                     7.905797   -1.317755   \n",
       "2              3    23.258889                     7.905797   -1.308284   \n",
       "3              9    19.200000                     7.905797   -1.281301   \n",
       "5              9    27.200000                     7.905797   -1.302583   \n",
       "6              5    20.300000                     7.905797   -1.279395   \n",
       "\n",
       "   pickup long destination lat  destination long      rider id  \\\n",
       "0    36.830370       -1.300406         36.829741  Rider_Id_432   \n",
       "2    36.843419       -1.300921         36.828195  Rider_Id_155   \n",
       "3    36.832396       -1.257147         36.795063  Rider_Id_855   \n",
       "5    36.767081       -1.257309         36.806008  Rider_Id_124   \n",
       "6    36.825364       -1.276574         36.851365  Rider_Id_114   \n",
       "\n",
       "  time from pickup to arrival  \n",
       "0                         745  \n",
       "2                         455  \n",
       "3                        1341  \n",
       "5                        3191  \n",
       "6                        1380  \n",
       "\n",
       "[5 rows x 29 columns]"
      ]
     },
     "execution_count": 41,
     "metadata": {},
     "output_type": "execute_result"
    }
   ],
   "source": [
    "clean_sendy_df.head()"
   ]
  },
  {
   "cell_type": "code",
   "execution_count": 42,
   "id": "1ac0d7e4",
   "metadata": {},
   "outputs": [
    {
     "data": {
      "text/plain": [
       "array(['Bike'], dtype=object)"
      ]
     },
     "execution_count": 42,
     "metadata": {},
     "output_type": "execute_result"
    }
   ],
   "source": [
    "clean_sendy_df['vehicle type'].unique()"
   ]
  },
  {
   "cell_type": "markdown",
   "id": "724e79eb",
   "metadata": {},
   "source": [
    "## Haverine formulae"
   ]
  },
  {
   "cell_type": "code",
   "execution_count": 45,
   "id": "a8609935",
   "metadata": {},
   "outputs": [
    {
     "data": {
      "text/plain": [
       "0.6434634205769111"
      ]
     },
     "execution_count": 45,
     "metadata": {},
     "output_type": "execute_result"
    }
   ],
   "source": [
    "from haversine import haversine, Unit\n",
    "\n",
    "start = (-1.317755, 36.830370) # (lat, lon)\n",
    "destination = (-1.300406, 36.829741)\n",
    "\n",
    "speed = haversine(start, destination)/3\n",
    "speed"
   ]
  },
  {
   "cell_type": "code",
   "execution_count": 47,
   "id": "c062e6a3",
   "metadata": {},
   "outputs": [
    {
     "name": "stderr",
     "output_type": "stream",
     "text": [
      "C:\\Users\\jkaruria\\AppData\\Local\\Temp\\ipykernel_13288\\4052300531.py:2: SettingWithCopyWarning: \n",
      "A value is trying to be set on a copy of a slice from a DataFrame.\n",
      "Try using .loc[row_indexer,col_indexer] = value instead\n",
      "\n",
      "See the caveats in the documentation: https://pandas.pydata.org/pandas-docs/stable/user_guide/indexing.html#returning-a-view-versus-a-copy\n",
      "  clean_sendy_df['speed'] = (clean_sendy_df['distance (km)'])/((clean_sendy_df['time from pickup to arrival'])/3600)\n"
     ]
    },
    {
     "data": {
      "text/html": [
       "<div>\n",
       "<style scoped>\n",
       "    .dataframe tbody tr th:only-of-type {\n",
       "        vertical-align: middle;\n",
       "    }\n",
       "\n",
       "    .dataframe tbody tr th {\n",
       "        vertical-align: top;\n",
       "    }\n",
       "\n",
       "    .dataframe thead th {\n",
       "        text-align: right;\n",
       "    }\n",
       "</style>\n",
       "<table border=\"1\" class=\"dataframe\">\n",
       "  <thead>\n",
       "    <tr style=\"text-align: right;\">\n",
       "      <th></th>\n",
       "      <th>order no</th>\n",
       "      <th>user id</th>\n",
       "      <th>vehicle type</th>\n",
       "      <th>platform type</th>\n",
       "      <th>personal or business</th>\n",
       "      <th>placement - day of month</th>\n",
       "      <th>placement - weekday (mo = 1)</th>\n",
       "      <th>placement - time</th>\n",
       "      <th>confirmation - day of month</th>\n",
       "      <th>confirmation - weekday (mo = 1)</th>\n",
       "      <th>...</th>\n",
       "      <th>distance (km)</th>\n",
       "      <th>temperature</th>\n",
       "      <th>precipitation in millimeters</th>\n",
       "      <th>pickup lat</th>\n",
       "      <th>pickup long</th>\n",
       "      <th>destination lat</th>\n",
       "      <th>destination long</th>\n",
       "      <th>rider id</th>\n",
       "      <th>time from pickup to arrival</th>\n",
       "      <th>speed</th>\n",
       "    </tr>\n",
       "  </thead>\n",
       "  <tbody>\n",
       "    <tr>\n",
       "      <th>0</th>\n",
       "      <td>Order_No_4211</td>\n",
       "      <td>User_Id_633</td>\n",
       "      <td>Bike</td>\n",
       "      <td>3</td>\n",
       "      <td>Business</td>\n",
       "      <td>9</td>\n",
       "      <td>5</td>\n",
       "      <td>9:35:46 AM</td>\n",
       "      <td>9</td>\n",
       "      <td>5</td>\n",
       "      <td>...</td>\n",
       "      <td>4</td>\n",
       "      <td>20.400000</td>\n",
       "      <td>7.905797</td>\n",
       "      <td>-1.317755</td>\n",
       "      <td>36.830370</td>\n",
       "      <td>-1.300406</td>\n",
       "      <td>36.829741</td>\n",
       "      <td>Rider_Id_432</td>\n",
       "      <td>745</td>\n",
       "      <td>19.328859</td>\n",
       "    </tr>\n",
       "    <tr>\n",
       "      <th>2</th>\n",
       "      <td>Order_No_1899</td>\n",
       "      <td>User_Id_265</td>\n",
       "      <td>Bike</td>\n",
       "      <td>3</td>\n",
       "      <td>Business</td>\n",
       "      <td>30</td>\n",
       "      <td>2</td>\n",
       "      <td>12:39:25 PM</td>\n",
       "      <td>30</td>\n",
       "      <td>2</td>\n",
       "      <td>...</td>\n",
       "      <td>3</td>\n",
       "      <td>23.258889</td>\n",
       "      <td>7.905797</td>\n",
       "      <td>-1.308284</td>\n",
       "      <td>36.843419</td>\n",
       "      <td>-1.300921</td>\n",
       "      <td>36.828195</td>\n",
       "      <td>Rider_Id_155</td>\n",
       "      <td>455</td>\n",
       "      <td>23.736264</td>\n",
       "    </tr>\n",
       "    <tr>\n",
       "      <th>3</th>\n",
       "      <td>Order_No_9336</td>\n",
       "      <td>User_Id_1402</td>\n",
       "      <td>Bike</td>\n",
       "      <td>3</td>\n",
       "      <td>Business</td>\n",
       "      <td>15</td>\n",
       "      <td>5</td>\n",
       "      <td>9:25:34 AM</td>\n",
       "      <td>15</td>\n",
       "      <td>5</td>\n",
       "      <td>...</td>\n",
       "      <td>9</td>\n",
       "      <td>19.200000</td>\n",
       "      <td>7.905797</td>\n",
       "      <td>-1.281301</td>\n",
       "      <td>36.832396</td>\n",
       "      <td>-1.257147</td>\n",
       "      <td>36.795063</td>\n",
       "      <td>Rider_Id_855</td>\n",
       "      <td>1341</td>\n",
       "      <td>24.161074</td>\n",
       "    </tr>\n",
       "    <tr>\n",
       "      <th>5</th>\n",
       "      <td>Order_No_7408</td>\n",
       "      <td>User_Id_1342</td>\n",
       "      <td>Bike</td>\n",
       "      <td>3</td>\n",
       "      <td>Business</td>\n",
       "      <td>14</td>\n",
       "      <td>5</td>\n",
       "      <td>3:07:35 PM</td>\n",
       "      <td>14</td>\n",
       "      <td>5</td>\n",
       "      <td>...</td>\n",
       "      <td>9</td>\n",
       "      <td>27.200000</td>\n",
       "      <td>7.905797</td>\n",
       "      <td>-1.302583</td>\n",
       "      <td>36.767081</td>\n",
       "      <td>-1.257309</td>\n",
       "      <td>36.806008</td>\n",
       "      <td>Rider_Id_124</td>\n",
       "      <td>3191</td>\n",
       "      <td>10.153557</td>\n",
       "    </tr>\n",
       "    <tr>\n",
       "      <th>6</th>\n",
       "      <td>Order_No_22680</td>\n",
       "      <td>User_Id_2803</td>\n",
       "      <td>Bike</td>\n",
       "      <td>3</td>\n",
       "      <td>Business</td>\n",
       "      <td>9</td>\n",
       "      <td>5</td>\n",
       "      <td>9:33:45 AM</td>\n",
       "      <td>9</td>\n",
       "      <td>5</td>\n",
       "      <td>...</td>\n",
       "      <td>5</td>\n",
       "      <td>20.300000</td>\n",
       "      <td>7.905797</td>\n",
       "      <td>-1.279395</td>\n",
       "      <td>36.825364</td>\n",
       "      <td>-1.276574</td>\n",
       "      <td>36.851365</td>\n",
       "      <td>Rider_Id_114</td>\n",
       "      <td>1380</td>\n",
       "      <td>13.043478</td>\n",
       "    </tr>\n",
       "  </tbody>\n",
       "</table>\n",
       "<p>5 rows × 30 columns</p>\n",
       "</div>"
      ],
      "text/plain": [
       "         order no       user id vehicle type  platform type  \\\n",
       "0   Order_No_4211   User_Id_633         Bike              3   \n",
       "2   Order_No_1899   User_Id_265         Bike              3   \n",
       "3   Order_No_9336  User_Id_1402         Bike              3   \n",
       "5   Order_No_7408  User_Id_1342         Bike              3   \n",
       "6  Order_No_22680  User_Id_2803         Bike              3   \n",
       "\n",
       "  personal or business  placement - day of month  \\\n",
       "0             Business                         9   \n",
       "2             Business                        30   \n",
       "3             Business                        15   \n",
       "5             Business                        14   \n",
       "6             Business                         9   \n",
       "\n",
       "   placement - weekday (mo = 1) placement - time  confirmation - day of month  \\\n",
       "0                             5       9:35:46 AM                            9   \n",
       "2                             2      12:39:25 PM                           30   \n",
       "3                             5       9:25:34 AM                           15   \n",
       "5                             5       3:07:35 PM                           14   \n",
       "6                             5       9:33:45 AM                            9   \n",
       "\n",
       "   confirmation - weekday (mo = 1)  ... distance (km)  temperature  \\\n",
       "0                                5  ...             4    20.400000   \n",
       "2                                2  ...             3    23.258889   \n",
       "3                                5  ...             9    19.200000   \n",
       "5                                5  ...             9    27.200000   \n",
       "6                                5  ...             5    20.300000   \n",
       "\n",
       "   precipitation in millimeters pickup lat  pickup long  destination lat  \\\n",
       "0                      7.905797  -1.317755    36.830370        -1.300406   \n",
       "2                      7.905797  -1.308284    36.843419        -1.300921   \n",
       "3                      7.905797  -1.281301    36.832396        -1.257147   \n",
       "5                      7.905797  -1.302583    36.767081        -1.257309   \n",
       "6                      7.905797  -1.279395    36.825364        -1.276574   \n",
       "\n",
       "  destination long      rider id  time from pickup to arrival      speed  \n",
       "0        36.829741  Rider_Id_432                          745  19.328859  \n",
       "2        36.828195  Rider_Id_155                          455  23.736264  \n",
       "3        36.795063  Rider_Id_855                         1341  24.161074  \n",
       "5        36.806008  Rider_Id_124                         3191  10.153557  \n",
       "6        36.851365  Rider_Id_114                         1380  13.043478  \n",
       "\n",
       "[5 rows x 30 columns]"
      ]
     },
     "execution_count": 47,
     "metadata": {},
     "output_type": "execute_result"
    }
   ],
   "source": [
    "#creating new column for speed in km/hr\n",
    "clean_sendy_df['speed'] = (clean_sendy_df['distance (km)'])/((clean_sendy_df['time from pickup to arrival'])/3600)\n",
    "\n",
    "clean_sendy_df.head()"
   ]
  },
  {
   "cell_type": "code",
   "execution_count": 55,
   "id": "f7654df8",
   "metadata": {},
   "outputs": [
    {
     "name": "stdout",
     "output_type": "stream",
     "text": [
      "SVM RMSE: 716.8789515864476\n",
      "KNN RMSE: 155.78483198351125\n",
      "Decision Tree RMSE: 29.176340378063966\n"
     ]
    }
   ],
   "source": [
    "# First we check for modeling without without normalisation and standardisation\n",
    "\n",
    "# ---\n",
    "\n",
    "# We select our features\n",
    "features = clean_sendy_df[['confirmation - day of month', 'confirmation - weekday (mo = 1)', 'distance (km)', 'temperature', 'precipitation in millimeters','speed']]\n",
    "target = clean_sendy_df['time from pickup to arrival']\n",
    "\n",
    "\n",
    "# Splitting our dataset \n",
    "# ---\n",
    "# NB: We use random_state to get the same results everytime,\n",
    "# else we'd get to be working with different test and train datasets.\n",
    "# ---\n",
    "from sklearn.model_selection import train_test_split\n",
    "X_train, X_test, y_train, y_test = train_test_split(features, target, test_size=.3, random_state = 42) \n",
    "\n",
    "# Fitting in our models \n",
    "# ---\n",
    "from sklearn.svm import SVR \n",
    "from sklearn.neighbors import KNeighborsRegressor\n",
    "from sklearn.ensemble import RandomForestRegressor \n",
    "\n",
    "# Don't worry about the model parameters, we will learn about \n",
    "# them in a separate workshop\n",
    "svm_regressor = SVR(kernel='rbf', C=10)\n",
    "knn_regressor = KNeighborsRegressor()\n",
    "dec_regressor = RandomForestRegressor(random_state=27)\n",
    "\n",
    "svm_regressor.fit(X_train, y_train)\n",
    "knn_regressor.fit(X_train, y_train)\n",
    "dec_regressor.fit(X_train, y_train)\n",
    "\n",
    "# Making Predictions  \n",
    "svm_y_pred = svm_regressor.predict(X_test)\n",
    "knn_y_pred = knn_regressor.predict(X_test)\n",
    "dec_y_pred = dec_regressor.predict(X_test)\n",
    "\n",
    "# Finally, evaluate our model \n",
    "from sklearn import metrics \n",
    "print('SVM RMSE:', np.sqrt(metrics.mean_squared_error(y_test, svm_y_pred)))\n",
    "print('KNN RMSE:', np.sqrt(metrics.mean_squared_error(y_test, knn_y_pred)))\n",
    "print('Random forest RMSE:', np.sqrt(metrics.mean_squared_error(y_test, dec_y_pred)))"
   ]
  },
  {
   "cell_type": "code",
   "execution_count": 58,
   "id": "3d6fd4ec",
   "metadata": {},
   "outputs": [
    {
     "name": "stdout",
     "output_type": "stream",
     "text": [
      "SVM RMSE: 654.1519110930833\n",
      "KNN RMSE: 647.2111886322664\n",
      "Random Forest RMSE: 28.683127330516008\n"
     ]
    }
   ],
   "source": [
    "# We then check for modeling with only normalisation\n",
    "# ---\n",
    "\n",
    "# We select our features\n",
    "features = clean_sendy_df[['confirmation - day of month', 'confirmation - weekday (mo = 1)', 'distance (km)', 'temperature', 'precipitation in millimeters','speed']]\n",
    "target = clean_sendy_df['time from pickup to arrival']\n",
    "\n",
    "\n",
    "# Splitting our dataset \n",
    "# ---\n",
    "# NB: We use random_state to get the same results everytime,\n",
    "# else we'd get to be working with different test and train datasets.\n",
    "# ---\n",
    "from sklearn.model_selection import train_test_split\n",
    "X_train, X_test, y_train, y_test = train_test_split(features, target, test_size=.3, random_state = 42) \n",
    "\n",
    "# Performing normalisation \n",
    "from sklearn.preprocessing import MinMaxScaler\n",
    "norm = MinMaxScaler().fit(X_train) \n",
    "X_train = norm.transform(X_train) \n",
    "X_test = norm.transform(X_test)\n",
    "\n",
    "# Fitting in our models  \n",
    "svm_regressor = SVR(kernel='rbf', C=10)\n",
    "knn_regressor = KNeighborsRegressor()\n",
    "dec_regressor = RandomForestRegressor(random_state=27)\n",
    "\n",
    "svm_regressor.fit(X_train, y_train)\n",
    "knn_regressor.fit(X_train, y_train)\n",
    "dec_regressor.fit(X_train, y_train)\n",
    "\n",
    "# Making Predictions  \n",
    "svm_y_pred = svm_regressor.predict(X_test)\n",
    "knn_y_pred = knn_regressor.predict(X_test)\n",
    "dec_y_pred = dec_regressor.predict(X_test)\n",
    "\n",
    "# Finally, evaluating our models \n",
    "print('SVM RMSE:', np.sqrt(metrics.mean_squared_error(y_test, svm_y_pred)))\n",
    "print('KNN RMSE:', np.sqrt(metrics.mean_squared_error(y_test, knn_y_pred)))\n",
    "print('Random Forest RMSE:', np.sqrt(metrics.mean_squared_error(y_test, dec_y_pred)))"
   ]
  },
  {
   "cell_type": "code",
   "execution_count": 57,
   "id": "205a5677",
   "metadata": {},
   "outputs": [
    {
     "name": "stdout",
     "output_type": "stream",
     "text": [
      "SVM RMSE: 632.5439424448925\n",
      "KNN RMSE: 639.6823591464035\n",
      "Random Forest RMSE: 485.80852522606506\n"
     ]
    }
   ],
   "source": [
    "# First we check for modeling with standardisation\n",
    "# ---\n",
    "\n",
    "\n",
    "# We select our features\n",
    "features = clean_sendy_df[['confirmation - day of month', 'confirmation - weekday (mo = 1)', 'distance (km)', 'temperature', 'precipitation in millimeters','speed']]\n",
    "target = clean_sendy_df['time from pickup to arrival']\n",
    "\n",
    "\n",
    "# Splitting our dataset \n",
    "# ---\n",
    "# NB: We use random_state to get the same results everytime,\n",
    "# else we'd get to be working with different test and train datasets.\n",
    "# ---\n",
    "from sklearn.model_selection import train_test_split\n",
    "X_train, X_test, y_train, y_test = train_test_split(features, target, test_size=.3, random_state = 42) \n",
    "\n",
    "# Performing standardisation\n",
    "from sklearn.preprocessing import StandardScaler\n",
    "sc = StandardScaler() \n",
    "X_train = sc.fit_transform(X_train)\n",
    "X_test = sc.fit_transform(X_test)\n",
    "\n",
    "# Fitting in our models  \n",
    "svm_regressor = SVR(kernel='rbf', C=10)\n",
    "knn_regressor = KNeighborsRegressor()\n",
    "dec_regressor = RandomForestRegressor(random_state=27)\n",
    "\n",
    "svm_regressor.fit(X_train, y_train)\n",
    "knn_regressor.fit(X_train, y_train)\n",
    "dec_regressor.fit(X_train, y_train)\n",
    "\n",
    "# Making Predictions  \n",
    "svm_y_pred = svm_regressor.predict(X_test)\n",
    "knn_y_pred = knn_regressor.predict(X_test)\n",
    "dec_y_pred = dec_regressor.predict(X_test)\n",
    "\n",
    "# Finally, evaluating our models \n",
    "print('SVM RMSE:', np.sqrt(metrics.mean_squared_error(y_test, svm_y_pred)))\n",
    "print('KNN RMSE:', np.sqrt(metrics.mean_squared_error(y_test, knn_y_pred)))\n",
    "print('Random Forest RMSE:', np.sqrt(metrics.mean_squared_error(y_test, dec_y_pred)))"
   ]
  },
  {
   "cell_type": "markdown",
   "id": "42e1a28c",
   "metadata": {},
   "source": [
    "### Pearson's Correlation Coefficient"
   ]
  },
  {
   "cell_type": "code",
   "execution_count": 60,
   "id": "7b2c0ae6",
   "metadata": {},
   "outputs": [
    {
     "data": {
      "image/png": "[encoded data removed]",
      "text/plain": [
       "<Figure size 500x400 with 2 Axes>"
      ]
     },
     "metadata": {},
     "output_type": "display_data"
    }
   ],
   "source": [
    "# we create a new data frame to check the correlation with\n",
    "arrival_df = clean_sendy_df[['confirmation - day of month', 'confirmation - weekday (mo = 1)', 'distance (km)', 'temperature', 'precipitation in millimeters','speed', 'time from pickup to arrival']]\n",
    "\n",
    "\n",
    "# Then appply filter methods by plotting a correlation matrix\n",
    "# ---\n",
    "#\n",
    "sendy_corr = arrival_df.corr()\n",
    "plt.figure(figsize=(5,4))\n",
    "\n",
    "# We then plot our heatmap visualistion\n",
    "# \n",
    "\n",
    "sns.heatmap(sendy_corr, annot=True, linewidth=0.5, cmap='coolwarm');"
   ]
  },
  {
   "cell_type": "markdown",
   "id": "c3e01606",
   "metadata": {},
   "source": [
    "From above, all the data in the data set has a relation. This implies that data set used previously applies"
   ]
  },
  {
   "cell_type": "markdown",
   "id": "8bd9d737",
   "metadata": {},
   "source": [
    "## Filtering Methods"
   ]
  },
  {
   "cell_type": "markdown",
   "id": "02b84a39",
   "metadata": {},
   "source": [
    "\n",
    "### Step Forward Feature Selection"
   ]
  },
  {
   "cell_type": "code",
   "execution_count": 61,
   "id": "5d26f1c1",
   "metadata": {},
   "outputs": [
    {
     "name": "stdout",
     "output_type": "stream",
     "text": [
      "Requirement already satisfied: mlrose in c:\\users\\jkaruria\\appdata\\local\\programs\\python\\python310\\lib\\site-packages (1.3.0)\n",
      "Requirement already satisfied: sklearn in c:\\users\\jkaruria\\appdata\\local\\programs\\python\\python310\\lib\\site-packages (from mlrose) (0.0.post1)\n",
      "Requirement already satisfied: scipy in c:\\users\\jkaruria\\appdata\\local\\programs\\python\\python310\\lib\\site-packages (from mlrose) (1.9.3)\n",
      "Requirement already satisfied: numpy in c:\\users\\jkaruria\\appdata\\local\\programs\\python\\python310\\lib\\site-packages (from mlrose) (1.23.4)\n"
     ]
    },
    {
     "name": "stderr",
     "output_type": "stream",
     "text": [
      "\n",
      "[notice] A new release of pip available: 22.3 -> 22.3.1\n",
      "[notice] To update, run: python.exe -m pip install --upgrade pip\n"
     ]
    }
   ],
   "source": [
    "import six\n",
    "import sys\n",
    "sys.modules['sklearn.externals.six'] = six\n",
    "\n",
    "# installing mlrose\n",
    "!pip install mlrose\n",
    "import mlrose\n",
    "\n",
    "# importing joblib\n",
    "import joblib\n",
    "sys.modules['sklearn.externals.joblib'] = joblib"
   ]
  },
  {
   "cell_type": "code",
   "execution_count": 62,
   "id": "5149c5f2",
   "metadata": {},
   "outputs": [
    {
     "name": "stderr",
     "output_type": "stream",
     "text": [
      "[Parallel(n_jobs=1)]: Using backend SequentialBackend with 1 concurrent workers.\n",
      "[Parallel(n_jobs=1)]: Done   1 out of   1 | elapsed:    0.6s remaining:    0.0s\n",
      "[Parallel(n_jobs=1)]: Done   6 out of   6 | elapsed:    6.8s finished\n",
      "\n",
      "[2022-11-20 11:07:55] Features: 1/4 -- score: 0.3083107378606025[Parallel(n_jobs=1)]: Using backend SequentialBackend with 1 concurrent workers.\n",
      "[Parallel(n_jobs=1)]: Done   1 out of   1 | elapsed:    1.3s remaining:    0.0s\n",
      "[Parallel(n_jobs=1)]: Done   5 out of   5 | elapsed:    8.5s finished\n",
      "\n",
      "[2022-11-20 11:08:03] Features: 2/4 -- score: 0.9989158596259933[Parallel(n_jobs=1)]: Using backend SequentialBackend with 1 concurrent workers.\n",
      "[Parallel(n_jobs=1)]: Done   1 out of   1 | elapsed:    4.4s remaining:    0.0s\n",
      "[Parallel(n_jobs=1)]: Done   4 out of   4 | elapsed:   17.0s finished\n",
      "\n",
      "[2022-11-20 11:08:20] Features: 3/4 -- score: 0.9989362765103049[Parallel(n_jobs=1)]: Using backend SequentialBackend with 1 concurrent workers.\n",
      "[Parallel(n_jobs=1)]: Done   1 out of   1 | elapsed:    4.6s remaining:    0.0s\n",
      "[Parallel(n_jobs=1)]: Done   3 out of   3 | elapsed:   13.4s finished\n",
      "\n",
      "[2022-11-20 11:08:34] Features: 4/4 -- score: 0.998659985030952"
     ]
    }
   ],
   "source": [
    " #First, we then perform modeling with both standardisation and normalisation.\n",
    "# We select our features\n",
    "features = clean_sendy_df[['confirmation - day of month', 'confirmation - weekday (mo = 1)', 'distance (km)', 'temperature', 'precipitation in millimeters','speed']]\n",
    "target = clean_sendy_df['time from pickup to arrival']\n",
    "\n",
    "\n",
    "# Splitting our dataset \n",
    "# ---\n",
    "# NB: We use random_state to get the same results everytime,\n",
    "# else we'd get to be working with different test and train datasets.\n",
    "# ---\n",
    "from sklearn.model_selection import train_test_split\n",
    "X_train, X_test, y_train, y_test = train_test_split(features, target, test_size=.3, random_state = 42) \n",
    "\n",
    "# Performing normalisation \n",
    "norm = MinMaxScaler().fit(X_train) \n",
    "X_train = norm.transform(X_train) \n",
    "X_test = norm.transform(X_test)\n",
    "\n",
    "# Selecting the ML algorithm to use   \n",
    "dec_regressor = RandomForestRegressor(random_state=27)\n",
    "\n",
    "# We pass the svm_regressor the estimator to the SequentialFeatureSelector function. \n",
    "# The k_features specifies the number of features to select. \n",
    "# We can set any number of features here. The forward parameter, if set to True, \n",
    "# performs step forward feature selection. The verbose parameter is used for logging \n",
    "# the progress of the feature selector, the scoring parameter defines the performance \n",
    "# evaluation criteria and finally, cv refers to cross-validation folds.\n",
    "# ---\n",
    "# Hint: Hover cursor on SequentialFeatureSelector to get a list of more parameter values.\n",
    "# ---\n",
    "#\n",
    "from mlxtend.feature_selection import SequentialFeatureSelector\n",
    "feature_selector = SequentialFeatureSelector(dec_regressor,\n",
    "           k_features=4,\n",
    "           forward=True,\n",
    "           verbose=2,\n",
    "           scoring='r2',\n",
    "           cv=4)\n",
    " \n",
    "# Perform step forward feature selection\n",
    "feature_selector = feature_selector.fit(X_train, y_train) "
   ]
  },
  {
   "cell_type": "code",
   "execution_count": 63,
   "id": "844fc018",
   "metadata": {},
   "outputs": [
    {
     "name": "stdout",
     "output_type": "stream",
     "text": [
      "[1, 2, 4, 5]\n"
     ]
    }
   ],
   "source": [
    "# Which are the selected features?\n",
    "# The columns at these indexes are those which were selected\n",
    "# ---\n",
    "#\n",
    "feat_cols = list(feature_selector.k_feature_idx_)\n",
    "print(feat_cols)"
   ]
  },
  {
   "cell_type": "code",
   "execution_count": 66,
   "id": "23878fb5",
   "metadata": {},
   "outputs": [
    {
     "name": "stdout",
     "output_type": "stream",
     "text": [
      "Random forest RMSE Without sffs: 28.683127330516008\n",
      "Random forest RMSE with sffs: 19.341466512982695\n"
     ]
    }
   ],
   "source": [
    "# We can now use those features to build our model\n",
    "# ---\n",
    "# \n",
    "\n",
    "# Without step forward feature selection (sffs)\n",
    "dec_regressor = RandomForestRegressor(random_state=27)\n",
    "dec_regressor.fit(X_train, y_train)\n",
    "\n",
    "# With step forward feature selection\n",
    "dec_regressor2 = RandomForestRegressor(random_state=27)\n",
    "dec_regressor2.fit(X_train[:, feat_cols], y_train)\n",
    "\n",
    "# Making Predictions and determining the accuracies\n",
    "y_test_pred = dec_regressor.predict(X_test)\n",
    "print('Random forest RMSE Without sffs:', np.sqrt(metrics.mean_squared_error(y_test, y_test_pred)))\n",
    "\n",
    "y_test_pred2 = dec_regressor2.predict(X_test[:, feat_cols])\n",
    "print('Random forest RMSE with sffs:', np.sqrt(metrics.mean_squared_error(y_test, y_test_pred2)))"
   ]
  },
  {
   "cell_type": "markdown",
   "id": "2d0e5580",
   "metadata": {},
   "source": [
    "### Step Backward Feature Selection"
   ]
  },
  {
   "cell_type": "code",
   "execution_count": 67,
   "id": "f3504399",
   "metadata": {},
   "outputs": [
    {
     "name": "stderr",
     "output_type": "stream",
     "text": [
      "[Parallel(n_jobs=1)]: Using backend SequentialBackend with 1 concurrent workers.\n",
      "[Parallel(n_jobs=1)]: Done   1 out of   1 | elapsed:    4.6s remaining:    0.0s\n",
      "[Parallel(n_jobs=1)]: Done   6 out of   6 | elapsed:   32.2s finished\n",
      "\n",
      "[2022-11-20 11:41:58] Features: 5/4 -- score: 0.9983954343992464[Parallel(n_jobs=1)]: Using backend SequentialBackend with 1 concurrent workers.\n",
      "[Parallel(n_jobs=1)]: Done   1 out of   1 | elapsed:    2.5s remaining:    0.0s\n",
      "[Parallel(n_jobs=1)]: Done   5 out of   5 | elapsed:   21.4s finished\n",
      "\n",
      "[2022-11-20 11:42:20] Features: 4/4 -- score: 0.998659985030952"
     ]
    }
   ],
   "source": [
    " #First, we then perform modeling with both standardisation and normalisation.\n",
    "# We select our features\n",
    "features = clean_sendy_df[['confirmation - day of month', 'confirmation - weekday (mo = 1)', 'distance (km)', 'temperature', 'precipitation in millimeters','speed']]\n",
    "target = clean_sendy_df['time from pickup to arrival']\n",
    "\n",
    "\n",
    "# Splitting our dataset \n",
    "# ---\n",
    "# NB: We use random_state to get the same results everytime,\n",
    "# else we'd get to be working with different test and train datasets.\n",
    "# ---\n",
    "from sklearn.model_selection import train_test_split\n",
    "X_train, X_test, y_train, y_test = train_test_split(features, target, test_size=.3, random_state = 42) \n",
    "\n",
    "# Performing normalisation \n",
    "norm = MinMaxScaler().fit(X_train) \n",
    "X_train = norm.transform(X_train) \n",
    "X_test = norm.transform(X_test)\n",
    "\n",
    "# Selecting the ML algorithm to use   \n",
    "dec_regressor = RandomForestRegressor(random_state=27)\n",
    "# We pass the dec_regressor the estimator to the SequentialFeatureSelector function. \n",
    "\n",
    "from mlxtend.feature_selection import SequentialFeatureSelector\n",
    "feature_selector = SequentialFeatureSelector(dec_regressor,\n",
    "           k_features=4,\n",
    "           forward=False,\n",
    "           verbose=2,\n",
    "           scoring='r2',\n",
    "           cv=4)\n",
    " \n",
    "# Perform step backward feature selection\n",
    "feature_selector = feature_selector.fit(X_train, y_train) "
   ]
  },
  {
   "cell_type": "code",
   "execution_count": 68,
   "id": "c8d0783d",
   "metadata": {},
   "outputs": [
    {
     "name": "stdout",
     "output_type": "stream",
     "text": [
      "[1, 2, 4, 5]\n"
     ]
    }
   ],
   "source": [
    "\n",
    "# Which are the selected features?\n",
    "# The columns at these indexes are those which were selected\n",
    "# ---\n",
    "#\n",
    "feat_cols = list(feature_selector.k_feature_idx_)\n",
    "print(feat_cols)"
   ]
  },
  {
   "cell_type": "code",
   "execution_count": 69,
   "id": "eec76c06",
   "metadata": {},
   "outputs": [
    {
     "name": "stdout",
     "output_type": "stream",
     "text": [
      "Decision Tree RMSE Without sbfs: 28.683127330516008\n",
      "Decision Tree RMSE with sbfs: 19.341466512982695\n"
     ]
    }
   ],
   "source": [
    "# We can now use those features to build a full model\n",
    "# ---\n",
    "# \n",
    "\n",
    "# Without step backward feature selection (sbfs)\n",
    "dec_regressor = RandomForestRegressor(random_state=27)\n",
    "dec_regressor.fit(X_train, y_train)\n",
    "\n",
    "# With step backward feature selection\n",
    "dec_regressor2 = RandomForestRegressor(random_state=27)\n",
    "dec_regressor2.fit(X_train[:, feat_cols], y_train)\n",
    "\n",
    "# Making Predictions and determining the accuracies  \n",
    "y_test_pred = dec_regressor.predict(X_test)\n",
    "print('RandomForestRegressor Without sbfs:', np.sqrt(metrics.mean_squared_error(y_test, y_test_pred)))\n",
    "\n",
    "y_test_pred2 = dec_regressor2.predict(X_test[:, feat_cols])\n",
    "print('RandomForestRegressor RMSE with sbfs:', np.sqrt(metrics.mean_squared_error(y_test, y_test_pred2)))"
   ]
  },
  {
   "cell_type": "markdown",
   "id": "720c5f33",
   "metadata": {},
   "source": [
    "### Recursive Feature Elimination (RFE)"
   ]
  },
  {
   "cell_type": "code",
   "execution_count": null,
   "id": "d9f3322a",
   "metadata": {},
   "outputs": [],
   "source": [
    "# The Recursive Feature Elimination (RFE) method is a feature selection approach which \n",
    "# works by recursively removing attributes and building a model on those attributes that remain. \n",
    "# It uses the model accuracy to identify which attributes (and combination of attributes) \n",
    "# contribute the most to predicting the target attribute.\n",
    "# ---\n",
    "# Dataset url = http://bit.ly/FishDatasetClean"
   ]
  },
  {
   "cell_type": "code",
   "execution_count": 73,
   "id": "aa823299",
   "metadata": {},
   "outputs": [
    {
     "name": "stdout",
     "output_type": "stream",
     "text": [
      "SVM RMSE: 713.728412659433\n",
      "RandomForestRegressor RMSE: 23.34999331945418\n",
      "SVM Selected features: ['distance (km)', 'temperature', 'speed']\n",
      "RandomForestRegressor Selected features: ['distance (km)', 'temperature', 'speed']\n"
     ]
    }
   ],
   "source": [
    "\n",
    "# We select our features\n",
    "features = clean_sendy_df[['confirmation - day of month', 'confirmation - weekday (mo = 1)', 'distance (km)', 'temperature', 'precipitation in millimeters','speed']]\n",
    "target = clean_sendy_df['time from pickup to arrival']\n",
    "\n",
    "\n",
    "# Splitting our dataset \n",
    "# ---\n",
    "from sklearn.model_selection import train_test_split\n",
    "X_train, X_test, y_train, y_test = train_test_split(features, target, test_size=.3, random_state = 42) \n",
    "# Performing normalisation \n",
    "norm = MinMaxScaler().fit(X_train) \n",
    "X_train = norm.transform(X_train) \n",
    "X_test = norm.transform(X_test)\n",
    "\n",
    "# Fitting in our models   \n",
    "\n",
    "svm_regressor = SVR(kernel=\"linear\")   \n",
    "dec_regressor = RandomForestRegressor(random_state=27)\n",
    "\n",
    "# We want to select the best 2 features for our model. \n",
    "# NB: n_features_to_select will include the response variable\n",
    "# ---\n",
    "#  \n",
    "from sklearn.feature_selection import RFE\n",
    "svm_regressor = RFE(svm_regressor, n_features_to_select = 3, step=1)\n",
    "dec_regressor = RFE(dec_regressor, n_features_to_select = 3, step=1)\n",
    "\n",
    "svm_regressor.fit(X_train, y_train) \n",
    "dec_regressor.fit(X_train, y_train)\n",
    "\n",
    "# Making Predictions  \n",
    "svm_y_pred = svm_regressor.predict(X_test) \n",
    "dec_y_pred = dec_regressor.predict(X_test)\n",
    "\n",
    "# Finally, evaluate our model  \n",
    "print('SVM RMSE:', np.sqrt(metrics.mean_squared_error(y_test, svm_y_pred))) \n",
    "print('RandomForestRegressor RMSE:', np.sqrt(metrics.mean_squared_error(y_test, dec_y_pred)))\n",
    " \n",
    "# Displaying our best features\n",
    "print('SVM Selected features: %s' % list(features.columns[svm_regressor.support_]))\n",
    "print('RandomForestRegressor Selected features: %s' % list(features.columns[dec_regressor.support_]))"
   ]
  },
  {
   "cell_type": "markdown",
   "id": "8d9eb32e",
   "metadata": {},
   "source": [
    "## Transformation\n"
   ]
  },
  {
   "cell_type": "markdown",
   "id": "49771823",
   "metadata": {},
   "source": [
    "### PCA"
   ]
  },
  {
   "cell_type": "code",
   "execution_count": 75,
   "id": "b407b3e4",
   "metadata": {},
   "outputs": [
    {
     "name": "stdout",
     "output_type": "stream",
     "text": [
      "SVM RMSE: 656.6961429728736\n",
      "KNN RMSE: 647.2111886322664\n",
      "Random Forest RMSE: 349.82339683378325\n"
     ]
    }
   ],
   "source": [
    "# using the principal component analysis (PCA) to reduce our features into components.\n",
    "\n",
    "# We select our features\n",
    "features = clean_sendy_df[['confirmation - day of month', 'confirmation - weekday (mo = 1)', 'distance (km)', 'temperature', 'precipitation in millimeters','speed']]\n",
    "target = clean_sendy_df['time from pickup to arrival']\n",
    "\n",
    "\n",
    "# Splitting our dataset \n",
    "# ---\n",
    "# NB: We use random_state to get the same results everytime,\n",
    "# else we'd get to be working with different test and train datasets.\n",
    "# ---\n",
    "from sklearn.model_selection import train_test_split\n",
    "X_train, X_test, y_train, y_test = train_test_split(features, target, test_size=.3, random_state = 42) \n",
    "\n",
    "# Performing normalisation \n",
    "from sklearn.preprocessing import MinMaxScaler\n",
    "norm = MinMaxScaler().fit(X_train) \n",
    "X_train = norm.transform(X_train) \n",
    "X_test = norm.transform(X_test)\n",
    "# Applying PCA\n",
    "\n",
    "# \n",
    "from sklearn.decomposition import PCA\n",
    "pca = PCA()\n",
    "X_train = pca.fit_transform(X_train)\n",
    "X_test = pca.transform(X_test)\n",
    "\n",
    "# Fitting in our models  \n",
    "svm_regressor = SVR(kernel='rbf', C=10)\n",
    "knn_regressor = KNeighborsRegressor()\n",
    "dec_regressor = RandomForestRegressor(random_state=27)\n",
    "\n",
    "svm_regressor.fit(X_train, y_train)\n",
    "knn_regressor.fit(X_train, y_train)\n",
    "dec_regressor.fit(X_train, y_train)\n",
    "\n",
    "# Making Predictions  \n",
    "svm_y_pred = svm_regressor.predict(X_test)\n",
    "knn_y_pred = knn_regressor.predict(X_test)\n",
    "dec_y_pred = dec_regressor.predict(X_test)\n",
    "\n",
    "# Finally, evaluating our models \n",
    "print('SVM RMSE:', np.sqrt(metrics.mean_squared_error(y_test, svm_y_pred)))\n",
    "print('KNN RMSE:', np.sqrt(metrics.mean_squared_error(y_test, knn_y_pred)))\n",
    "print('Random Forest RMSE:', np.sqrt(metrics.mean_squared_error(y_test, dec_y_pred)))"
   ]
  },
  {
   "cell_type": "markdown",
   "id": "9ac49f5b",
   "metadata": {},
   "source": [
    "### LDA"
   ]
  },
  {
   "cell_type": "code",
   "execution_count": 79,
   "id": "f310c706",
   "metadata": {},
   "outputs": [
    {
     "name": "stdout",
     "output_type": "stream",
     "text": [
      "SVM RMSE: 655.357287476408\n",
      "KNN RMSE: 672.8858135380584\n",
      "Random Forest RMSE: 1040.7206089822253\n"
     ]
    }
   ],
   "source": [
    "#import LDA module\n",
    "\n",
    "from sklearn.discriminant_analysis import LinearDiscriminantAnalysis\n",
    "\n",
    "# Splitting our dataset \n",
    "# ---\n",
    "# NB: We use random_state to get the same results everytime,\n",
    "# else we'd get to be working with different test and train datasets.\n",
    "# ---\n",
    "from sklearn.model_selection import train_test_split\n",
    "X_train, X_test, y_train, y_test = train_test_split(features, target, test_size=.3, random_state = 42) \n",
    "\n",
    "# Performing normalisation \n",
    "from sklearn.preprocessing import MinMaxScaler\n",
    "norm = MinMaxScaler().fit(X_train) \n",
    "X_train = norm.transform(X_train) \n",
    "X_test = norm.transform(X_test)\n",
    "\n",
    "#Applying LDA.\n",
    "\n",
    "lda = LinearDiscriminantAnalysis()\n",
    "X_train = lda.fit(X_train, y_train).transform(X_train)\n",
    "X_test = lda.fit(X_test, y_test).transform(X_test)\n",
    "\n",
    "\n",
    "# Fitting in our models  \n",
    "svm_regressor = SVR(kernel='rbf', C=10)\n",
    "knn_regressor = KNeighborsRegressor()\n",
    "dec_regressor = RandomForestRegressor(random_state=27)\n",
    "\n",
    "svm_regressor.fit(X_train, y_train)\n",
    "knn_regressor.fit(X_train, y_train)\n",
    "dec_regressor.fit(X_train, y_train)\n",
    "\n",
    "# Making Predictions  \n",
    "svm_y_pred = svm_regressor.predict(X_test)\n",
    "knn_y_pred = knn_regressor.predict(X_test)\n",
    "dec_y_pred = dec_regressor.predict(X_test)\n",
    "\n",
    "# Finally, evaluating our models \n",
    "print('SVM RMSE:', np.sqrt(metrics.mean_squared_error(y_test, svm_y_pred)))\n",
    "print('KNN RMSE:', np.sqrt(metrics.mean_squared_error(y_test, knn_y_pred)))\n",
    "print('Random Forest RMSE:', np.sqrt(metrics.mean_squared_error(y_test, dec_y_pred)))"
   ]
  },
  {
   "cell_type": "code",
   "execution_count": null,
   "id": "04b33118",
   "metadata": {},
   "outputs": [],
   "source": []
  }
 ],
 "metadata": {
  "kernelspec": {
   "display_name": "Python 3 (ipykernel)",
   "language": "python",
   "name": "python3"
  },
  "language_info": {
   "codemirror_mode": {
    "name": "ipython",
    "version": 3
   },
   "file_extension": ".py",
   "mimetype": "text/x-python",
   "name": "python",
   "nbconvert_exporter": "python",
   "pygments_lexer": "ipython3",
   "version": "3.10.8"
  }
 },
 "nbformat": 4,
 "nbformat_minor": 5
}
